{
 "cells": [
  {
   "cell_type": "markdown",
   "metadata": {
    "tags": [
     "skip"
    ]
   },
   "source": [
    "# Data Collection\n",
    "\n",
    "\n",
    "Here you are asked to collect data to then guess the model of the Duckiebot\n"
   ]
  },
  {
   "cell_type": "code",
   "execution_count": null,
   "metadata": {
    "tags": [
     "skip"
    ]
   },
   "outputs": [],
   "source": [
    "from lraClass import LRA2_HELPER\n",
    "\n",
    "import time\n",
    "import sys\n",
    "import argparse\n",
    "import math\n",
    "import numpy as np\n",
    "import gym\n",
    "from simulator.src.gym_duckietown.envs import DuckietownEnv\n"
   ]
  },
  {
   "cell_type": "markdown",
   "metadata": {
    "tags": [
     "skip"
    ]
   },
   "source": [
    "Enviroment initialization"
   ]
  },
  {
   "cell_type": "code",
   "execution_count": null,
   "metadata": {
    "scrolled": true,
    "tags": [
     "skip"
    ]
   },
   "outputs": [],
   "source": [
    "lra = LRA2_HELPER()\n",
    "\n",
    "\n",
    "env = Simulator(\n",
    "    map_name = \"udem1\",\n",
    "    domain_rand = False,\n",
    "    draw_bbox = False\n",
    ")\n",
    "\n",
    "env = lra.wrapEnv(env)\n",
    "\n",
    "env.reset()\n"
   ]
  },
  {
   "cell_type": "markdown",
   "metadata": {
    "tags": [
     "skip"
    ]
   },
   "source": [
    "Simulate the environment. Here you can collect the state and the control inputs.\n",
    "\n",
    "In the Duckietown environment the control input **_u_** is the steering angle, while the state **_X_** is represented by the distance from the center of the lane and the angle from the straight as shown in the image below\n",
    "\n",
    "![controls](assets/control_model.png)\n",
    "\n"
   ]
  },
  {
   "cell_type": "code",
   "execution_count": null,
   "metadata": {
    "tags": [
     "skip"
    ]
   },
   "outputs": [],
   "source": [
    "\n",
    "#\n",
    "#   Simulate the environment with a PID controller \n",
    "#\n",
    "speed = 0.2\n",
    "while True:\n",
    "    lane_pose = env.get_lane_pos2(env.cur_pos, env.cur_angle)\n",
    "    distance_to_road_center = lane_pose.dist\n",
    "    angle_from_straight_in_rads = lane_pose.angle_rad\n",
    "\n",
    "    k_p = 10\n",
    "    k_d = 1\n",
    "\n",
    "    X = [distance_to_road_center, angle_from_straight_in_rads]\n",
    "    steering =  k_p * distance_to_road_center + k_d * angle_from_straight_in_rads\n",
    "\n",
    "    ### YOUR CODE HERE\n",
    "    ### Collect the data here using the lra class\n",
    "\n",
    "    obs, reward, done, info = env.step([speed, steering])\n",
    "\n",
    "    #print('Steps = %s' % (env.step_count))\n",
    "\n",
    "    \n",
    "\n",
    "    if done:\n",
    "        if reward < 0:\n",
    "            print('*** CRASHED ***')\n",
    "        break\n",
    "\n",
    "\n",
    "### Don't forget to save the data!\n",
    "\n",
    "env.close()\n",
    "\n",
    "lra.renderEnv(env)"
   ]
  },
  {
   "cell_type": "markdown",
   "metadata": {
    "tags": [
     "skip"
    ]
   },
   "source": [
    "In the cell below run a random controll inputs and collect the data as in the previous exercise "
   ]
  },
  {
   "cell_type": "code",
   "execution_count": null,
   "metadata": {
    "tags": [
     "skip"
    ]
   },
   "outputs": [],
   "source": [
    "\n",
    "#\n",
    "#   Simulate the environment with a random controller \n",
    "#\n",
    "speed = 0.2\n",
    "while True:\n",
    "    lane_pose = env.get_lane_pos2(env.cur_pos, env.cur_angle)\n",
    "    distance_to_road_center = lane_pose.dist\n",
    "    angle_from_straight_in_rads = lane_pose.angle_rad\n",
    "\n",
    "    X = [distance_to_road_center, angle_from_straight_in_rads]\n",
    "\n",
    "    ### YOUR CODE HERE\n",
    "    ### Collect the data here using the lra class\n",
    "    steering = \n",
    "\n",
    "\n",
    "    obs, reward, done, info = env.step([speed, steering])\n",
    "\n",
    "    #print('Steps = %s' % (env.step_count))\n",
    "\n",
    "    \n",
    "\n",
    "    if done:\n",
    "        if reward < 0:\n",
    "            print('*** CRASHED ***')\n",
    "        break\n",
    "\n",
    "\n",
    "### Don't forget to save the data!\n",
    "\n",
    "env.close()\n",
    "\n",
    "lra.renderEnv(env)"
   ]
  },
  {
   "cell_type": "markdown",
   "metadata": {
    "tags": [
     "skip"
    ]
   },
   "source": [
    "# Model estimation and Data cleaning\n"
   ]
  },
  {
   "cell_type": "code",
   "execution_count": null,
   "metadata": {
    "tags": [
     "skip"
    ]
   },
   "outputs": [],
   "source": [
    "from sklearn.linear_model import Ridge\n",
    "import pandas as pd"
   ]
  },
  {
   "cell_type": "markdown",
   "metadata": {
    "tags": [
     "skip"
    ]
   },
   "source": [
    "You are asked to estimate the dynamics model of a Duckiebot. We can approximate the dynamics of a Duckiebot with a linear system:\n",
    "\n",
    "$$\n",
    "x(t+1) = A \\cdot x(t) + B \\cdot u(t)\n",
    "$$\n",
    "\n",
    "\n",
    "The goal here is to guess the values of the matrices A and B.\n",
    "\n",
    "_Hint: linear regression problem_\n"
   ]
  },
  {
   "cell_type": "markdown",
   "metadata": {
    "tags": [
     "skip"
    ]
   },
   "source": [
    "Divide your dataset in test and training:"
   ]
  },
  {
   "cell_type": "code",
   "execution_count": null,
   "metadata": {
    "tags": [
     "skip"
    ]
   },
   "outputs": [],
   "source": [
    "### Clean the data before splitting the dataset\n",
    "\n",
    "data = lra.loadData(\"model_data.csv\")\n",
    "\n"
   ]
  },
  {
   "cell_type": "markdown",
   "metadata": {
    "tags": [
     "skip"
    ]
   },
   "source": [
    "Train the linear model on the train set:"
   ]
  },
  {
   "cell_type": "code",
   "execution_count": null,
   "metadata": {
    "tags": [
     "skip"
    ]
   },
   "outputs": [],
   "source": [
    "\n",
    "\n",
    "##  YOR CODE HERE\n",
    "\n"
   ]
  },
  {
   "cell_type": "markdown",
   "metadata": {
    "tags": [
     "skip"
    ]
   },
   "source": [
    "Check how good is the model you got according to your test set."
   ]
  },
  {
   "cell_type": "code",
   "execution_count": null,
   "metadata": {
    "tags": [
     "skip"
    ]
   },
   "outputs": [],
   "source": []
  },
  {
   "cell_type": "markdown",
   "metadata": {
    "tags": [
     "skip"
    ]
   },
   "source": [
    "# LQR design\n",
    "\n",
    "Change the **_A_** and **_B_** matrices with the model you found the previous section. Then try to tune the **_Q_** and **_R_** matrices in order to have good driving performance."
   ]
  },
  {
   "cell_type": "markdown",
   "metadata": {
    "tags": [
     "skip"
    ]
   },
   "source": [
    "The function LQRGain returns the **_K_** gain needed to realize the state feedback controller.\n",
    "\n",
    "$\\color{red}{\\text{DO NOT CHANGE THE NAME OF THIS FUNCTION.}}$\n"
   ]
  },
  {
   "cell_type": "code",
   "execution_count": null,
   "metadata": {},
   "outputs": [],
   "source": [
    "\n",
    "#\n",
    "#   Find the state feedback control gain\n",
    "#\n",
    "def LQRGain():\n",
    "    from lraClass import LRA2_HELPER\n",
    "    import numpy as np\n",
    "    \n",
    "    lra = LRA2_HELPER()\n",
    "\n",
    "    ### Write the A and B matrices you found in the previous section.\n",
    "    A = np.array([[0.0, 0.0 ],\n",
    "            [0.0, 0.0 ]])\n",
    "\n",
    "    B = np.array([[0.0, 0.0]]).T\n",
    "\n",
    "    Q = np.array([[0.0, 0.0], [0.0, 0.0]])\n",
    "    R = np.array([[0.0]])\n",
    "\n",
    "\n",
    "    # Solve Algebric Riccati Equation\n",
    "    S = lra.solveRiccati(A,B,Q,R)\n",
    "\n",
    "    # find the gain K\n",
    "    K = \n",
    "\n",
    "    return K\n"
   ]
  },
  {
   "cell_type": "code",
   "execution_count": null,
   "metadata": {
    "scrolled": true,
    "tags": [
     "skip"
    ]
   },
   "outputs": [],
   "source": [
    "\n",
    "speed=0.2\n",
    "\n",
    "\n",
    "K=LQRGain()\n",
    "\n",
    "env = lra.wrapEnv(env)\n",
    "env.reset()\n",
    "\n",
    "#\n",
    "#   Simulate the environment\n",
    "#\n",
    "while True:\n",
    "    lane_pose = env.get_lane_pos2(env.cur_pos, env.cur_angle)\n",
    "    distance_to_road_center = lane_pose.dist\n",
    "    angle_from_straight_in_rads = lane_pose.angle_rad\n",
    "\n",
    "    X = [distance_to_road_center, angle_from_straight_in_rads]\n",
    "\n",
    "    # YOUR CODE HERE\n",
    "    # find the steering using the gain you found.\n",
    "    steering = \n",
    "    \n",
    "    obs, reward, done, info = env.step([speed, steering])\n",
    "\n",
    "    #print('Steps = %s' % (env.step_count))\n",
    "\n",
    "    if done:\n",
    "        if reward < 0:\n",
    "            print('*** CRASHED ***')\n",
    "        break\n",
    "\n",
    "env.close()\n",
    "\n",
    "lra.renderEnv(env)"
   ]
  }
 ],
 "metadata": {
  "kernelspec": {
   "display_name": "Python 3",
   "language": "python",
   "name": "python3"
  },
  "language_info": {
   "codemirror_mode": {
    "name": "ipython",
    "version": 3
   },
   "file_extension": ".py",
   "mimetype": "text/x-python",
   "name": "python",
   "nbconvert_exporter": "python",
   "pygments_lexer": "ipython3",
   "version": "3.8.5"
  }
 },
 "nbformat": 4,
 "nbformat_minor": 2
}